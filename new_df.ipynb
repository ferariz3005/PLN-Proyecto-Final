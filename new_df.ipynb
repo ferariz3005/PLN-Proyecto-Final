{
 "cells": [
  {
   "cell_type": "code",
   "execution_count": 2,
   "metadata": {},
   "outputs": [],
   "source": [
    "# Reading the dataset\n",
    "import pandas as pd\n",
    "df = pd.read_csv('wiki_movie_plots_deduped.csv')"
   ]
  },
  {
   "cell_type": "code",
   "execution_count": 3,
   "metadata": {},
   "outputs": [
    {
     "data": {
      "text/plain": [
       "(34886, 8)"
      ]
     },
     "execution_count": 3,
     "metadata": {},
     "output_type": "execute_result"
    }
   ],
   "source": [
    "df.shape"
   ]
  },
  {
   "cell_type": "code",
   "execution_count": 4,
   "metadata": {},
   "outputs": [
    {
     "data": {
      "text/plain": [
       "2265"
      ]
     },
     "execution_count": 4,
     "metadata": {},
     "output_type": "execute_result"
    }
   ],
   "source": [
    "# How many unique values for the column 'Genre' do we have?\n",
    "len(df['Genre'].unique())"
   ]
  },
  {
   "cell_type": "code",
   "execution_count": 5,
   "metadata": {},
   "outputs": [
    {
     "data": {
      "text/plain": [
       "array(['unknown', 'western', 'comedy', ...,\n",
       "       'adventure, romance, fantasy film', 'ero',\n",
       "       'horror romantic comedy'], dtype=object)"
      ]
     },
     "execution_count": 5,
     "metadata": {},
     "output_type": "execute_result"
    }
   ],
   "source": [
    "# Some of the genres in this column\n",
    "df['Genre'].unique()"
   ]
  },
  {
   "cell_type": "code",
   "execution_count": 7,
   "metadata": {},
   "outputs": [],
   "source": [
    "# Start by deleting every row where the genre is unknown. \n",
    "\n",
    "df.drop(df[df['Genre'] == 'unknown'].index, inplace=True)\n"
   ]
  },
  {
   "cell_type": "code",
   "execution_count": 8,
   "metadata": {},
   "outputs": [
    {
     "data": {
      "text/plain": [
       "(28803, 8)"
      ]
     },
     "execution_count": 8,
     "metadata": {},
     "output_type": "execute_result"
    }
   ],
   "source": [
    "# We've deleted some rows in our dataset.\n",
    "df.shape"
   ]
  },
  {
   "attachments": {},
   "cell_type": "markdown",
   "metadata": {},
   "source": [
    "We want to group similar categories since we have over 2000 unique values. Let's check how many do we have for some genres, then group those that are similar."
   ]
  },
  {
   "cell_type": "code",
   "execution_count": 9,
   "metadata": {},
   "outputs": [
    {
     "data": {
      "text/plain": [
       "Genre\n",
       "False    27705\n",
       "True      1098\n",
       "Name: count, dtype: int64"
      ]
     },
     "execution_count": 9,
     "metadata": {},
     "output_type": "execute_result"
    }
   ],
   "source": [
    "(df['Genre']=='action').value_counts()"
   ]
  },
  {
   "cell_type": "code",
   "execution_count": 10,
   "metadata": {},
   "outputs": [
    {
     "data": {
      "text/plain": [
       "Genre\n",
       "False    28277\n",
       "True       526\n",
       "Name: count, dtype: int64"
      ]
     },
     "execution_count": 10,
     "metadata": {},
     "output_type": "execute_result"
    }
   ],
   "source": [
    "(df['Genre']=='adventure').value_counts()"
   ]
  },
  {
   "cell_type": "code",
   "execution_count": 11,
   "metadata": {},
   "outputs": [],
   "source": [
    "# Change all of these specific genres to a broader one: action.\n",
    "\n",
    "df['Genre'] = df['Genre'].replace('action comedy', 'action')\n",
    "df['Genre'] = df['Genre'].replace('action drama', 'action')\n",
    "df['Genre'] = df['Genre'].replace('action thriller', 'action')\n",
    "df['Genre'] = df['Genre'].replace('action romance', 'action')\n",
    "df['Genre'] = df['Genre'].replace('drama action', 'action')\n",
    "df['Genre'] = df['Genre'].replace('action adventure', 'action')\n",
    "df['Genre'] = df['Genre'].replace('crime thriller', 'action')\n",
    "df['Genre'] = df['Genre'].replace('war drama', 'action')\n",
    "df['Genre'] = df['Genre'].replace('war', 'action')\n",
    "df['Genre'] = df['Genre'].replace('martial arts', 'action')\n",
    "df['Genre'] = df['Genre'].replace('crime', 'action')"
   ]
  },
  {
   "cell_type": "code",
   "execution_count": 12,
   "metadata": {},
   "outputs": [],
   "source": [
    "# Group in a new category: action/adventure\n",
    "\n",
    "genre_mapping = { \n",
    "                 'action': 'action/adventure',\n",
    "                 'adventure': 'action/adventure'\n",
    "}\n",
    "\n",
    "df['Genre'].replace(genre_mapping, inplace=True)"
   ]
  },
  {
   "cell_type": "code",
   "execution_count": 13,
   "metadata": {},
   "outputs": [
    {
     "data": {
      "text/plain": [
       "Genre\n",
       "False    25987\n",
       "True      2816\n",
       "Name: count, dtype: int64"
      ]
     },
     "execution_count": 13,
     "metadata": {},
     "output_type": "execute_result"
    }
   ],
   "source": [
    "(df['Genre']=='action/adventure').value_counts()"
   ]
  },
  {
   "cell_type": "code",
   "execution_count": 14,
   "metadata": {},
   "outputs": [
    {
     "data": {
      "text/plain": [
       "Genre\n",
       "False    24424\n",
       "True      4379\n",
       "Name: count, dtype: int64"
      ]
     },
     "execution_count": 14,
     "metadata": {},
     "output_type": "execute_result"
    }
   ],
   "source": [
    "(df['Genre']=='comedy').value_counts()"
   ]
  },
  {
   "cell_type": "code",
   "execution_count": 15,
   "metadata": {},
   "outputs": [
    {
     "data": {
      "text/plain": [
       "Genre\n",
       "False    28789\n",
       "True        14\n",
       "Name: count, dtype: int64"
      ]
     },
     "execution_count": 15,
     "metadata": {},
     "output_type": "execute_result"
    }
   ],
   "source": [
    "(df['Genre']=='rom com').value_counts()"
   ]
  },
  {
   "cell_type": "code",
   "execution_count": 16,
   "metadata": {},
   "outputs": [
    {
     "data": {
      "text/plain": [
       "Genre\n",
       "False    28342\n",
       "True       461\n",
       "Name: count, dtype: int64"
      ]
     },
     "execution_count": 16,
     "metadata": {},
     "output_type": "execute_result"
    }
   ],
   "source": [
    "(df['Genre']=='romantic comedy').value_counts()"
   ]
  },
  {
   "cell_type": "code",
   "execution_count": 17,
   "metadata": {},
   "outputs": [
    {
     "data": {
      "text/plain": [
       "Genre\n",
       "False    28797\n",
       "True         6\n",
       "Name: count, dtype: int64"
      ]
     },
     "execution_count": 17,
     "metadata": {},
     "output_type": "execute_result"
    }
   ],
   "source": [
    "(df['Genre']=='comedy romance').value_counts()"
   ]
  },
  {
   "cell_type": "code",
   "execution_count": 18,
   "metadata": {},
   "outputs": [
    {
     "data": {
      "text/plain": [
       "Genre\n",
       "False    28801\n",
       "True         2\n",
       "Name: count, dtype: int64"
      ]
     },
     "execution_count": 18,
     "metadata": {},
     "output_type": "execute_result"
    }
   ],
   "source": [
    "(df['Genre']=='romance comedy').value_counts()"
   ]
  },
  {
   "cell_type": "code",
   "execution_count": 19,
   "metadata": {},
   "outputs": [],
   "source": [
    "# Change all  variants of 'rom com' to romantic comedy.\n",
    "\n",
    "df['Genre'] = df['Genre'].replace('rom com', 'romantic comedy')\n",
    "df['Genre'] = df['Genre'].replace('comedy romance', 'romantic comedy')\n",
    "df['Genre'] = df['Genre'].replace('romance comedy', 'romantic comedy')"
   ]
  },
  {
   "cell_type": "code",
   "execution_count": 20,
   "metadata": {},
   "outputs": [
    {
     "data": {
      "text/plain": [
       "Genre\n",
       "False    28320\n",
       "True       483\n",
       "Name: count, dtype: int64"
      ]
     },
     "execution_count": 20,
     "metadata": {},
     "output_type": "execute_result"
    }
   ],
   "source": [
    "(df['Genre']=='romantic comedy').value_counts()"
   ]
  },
  {
   "cell_type": "code",
   "execution_count": 21,
   "metadata": {},
   "outputs": [
    {
     "data": {
      "text/plain": [
       "Genre\n",
       "False    27880\n",
       "True       923\n",
       "Name: count, dtype: int64"
      ]
     },
     "execution_count": 21,
     "metadata": {},
     "output_type": "execute_result"
    }
   ],
   "source": [
    "(df['Genre']=='romance').value_counts()"
   ]
  },
  {
   "cell_type": "code",
   "execution_count": 22,
   "metadata": {},
   "outputs": [
    {
     "data": {
      "text/plain": [
       "Genre\n",
       "False    28800\n",
       "True         3\n",
       "Name: count, dtype: int64"
      ]
     },
     "execution_count": 22,
     "metadata": {},
     "output_type": "execute_result"
    }
   ],
   "source": [
    "(df['Genre']=='drama romance').value_counts()"
   ]
  },
  {
   "cell_type": "code",
   "execution_count": 23,
   "metadata": {},
   "outputs": [],
   "source": [
    "df['Genre'] = df['Genre'].replace('drama romance', 'romance drama')"
   ]
  },
  {
   "cell_type": "code",
   "execution_count": 24,
   "metadata": {},
   "outputs": [
    {
     "data": {
      "text/plain": [
       "Genre\n",
       "False    28772\n",
       "True        31\n",
       "Name: count, dtype: int64"
      ]
     },
     "execution_count": 24,
     "metadata": {},
     "output_type": "execute_result"
    }
   ],
   "source": [
    "(df['Genre']=='romance drama').value_counts()"
   ]
  },
  {
   "cell_type": "code",
   "execution_count": 35,
   "metadata": {},
   "outputs": [
    {
     "data": {
      "text/plain": [
       "Genre\n",
       "False    28796\n",
       "True         7\n",
       "Name: count, dtype: int64"
      ]
     },
     "execution_count": 35,
     "metadata": {},
     "output_type": "execute_result"
    }
   ],
   "source": [
    "(df['Genre']=='romantic').value_counts()"
   ]
  },
  {
   "cell_type": "code",
   "execution_count": 36,
   "metadata": {},
   "outputs": [],
   "source": [
    "# Group all romance genres into an only one.\n",
    "\n",
    "genre_mapping2 = { \n",
    "                 'romantic comedy': 'romance',\n",
    "                 'romance drama': 'romance',\n",
    "                 'romantic': 'romance'\n",
    "}\n",
    "\n",
    "df['Genre'].replace(genre_mapping2, inplace=True)"
   ]
  },
  {
   "cell_type": "code",
   "execution_count": 37,
   "metadata": {},
   "outputs": [
    {
     "data": {
      "text/plain": [
       "Genre\n",
       "False    27359\n",
       "True      1444\n",
       "Name: count, dtype: int64"
      ]
     },
     "execution_count": 37,
     "metadata": {},
     "output_type": "execute_result"
    }
   ],
   "source": [
    "(df['Genre']=='romance').value_counts()"
   ]
  },
  {
   "cell_type": "code",
   "execution_count": 27,
   "metadata": {},
   "outputs": [
    {
     "data": {
      "text/plain": [
       "Genre\n",
       "False    22839\n",
       "True      5964\n",
       "Name: count, dtype: int64"
      ]
     },
     "execution_count": 27,
     "metadata": {},
     "output_type": "execute_result"
    }
   ],
   "source": [
    "(df['Genre']=='drama').value_counts()"
   ]
  },
  {
   "cell_type": "code",
   "execution_count": 28,
   "metadata": {},
   "outputs": [
    {
     "data": {
      "text/plain": [
       "Genre\n",
       "False    27636\n",
       "True      1167\n",
       "Name: count, dtype: int64"
      ]
     },
     "execution_count": 28,
     "metadata": {},
     "output_type": "execute_result"
    }
   ],
   "source": [
    "(df['Genre']=='horror').value_counts()"
   ]
  },
  {
   "cell_type": "code",
   "execution_count": 29,
   "metadata": {},
   "outputs": [
    {
     "data": {
      "text/plain": [
       "Genre\n",
       "False    27589\n",
       "True      1214\n",
       "Name: count, dtype: int64"
      ]
     },
     "execution_count": 29,
     "metadata": {},
     "output_type": "execute_result"
    }
   ],
   "source": [
    "df['Genre'] = df['Genre'].replace('horror comedy', 'horror')\n",
    "(df['Genre']=='horror').value_counts()"
   ]
  },
  {
   "cell_type": "code",
   "execution_count": 31,
   "metadata": {},
   "outputs": [],
   "source": [
    "# Include film noir into the thriller genre.\n",
    "\n",
    "df['Genre'] = df['Genre'].replace('film noir', 'thriller')"
   ]
  },
  {
   "cell_type": "code",
   "execution_count": 32,
   "metadata": {},
   "outputs": [],
   "source": [
    "# Group into a new category: suspense/thriller/mystery\n",
    "\n",
    "genre_mapping3 = { \n",
    "                 'thriller': 'suspense/thriller/mystery',\n",
    "                 'suspense': 'suspense/thriller/mystery',\n",
    "                 'mystery': 'suspense/thriller/mystery'\n",
    "}\n",
    "\n",
    "df['Genre'].replace(genre_mapping3, inplace=True)"
   ]
  },
  {
   "cell_type": "code",
   "execution_count": 33,
   "metadata": {},
   "outputs": [
    {
     "data": {
      "text/plain": [
       "Genre\n",
       "False    27078\n",
       "True      1725\n",
       "Name: count, dtype: int64"
      ]
     },
     "execution_count": 33,
     "metadata": {},
     "output_type": "execute_result"
    }
   ],
   "source": [
    "(df['Genre']=='suspense/thriller/mystery').value_counts()"
   ]
  },
  {
   "attachments": {},
   "cell_type": "markdown",
   "metadata": {},
   "source": [
    "Now let's create a new dataset than includes these top categories which we've previously selected."
   ]
  },
  {
   "cell_type": "code",
   "execution_count": 56,
   "metadata": {},
   "outputs": [
    {
     "data": {
      "text/html": [
       "<div>\n",
       "<style scoped>\n",
       "    .dataframe tbody tr th:only-of-type {\n",
       "        vertical-align: middle;\n",
       "    }\n",
       "\n",
       "    .dataframe tbody tr th {\n",
       "        vertical-align: top;\n",
       "    }\n",
       "\n",
       "    .dataframe thead th {\n",
       "        text-align: right;\n",
       "    }\n",
       "</style>\n",
       "<table border=\"1\" class=\"dataframe\">\n",
       "  <thead>\n",
       "    <tr style=\"text-align: right;\">\n",
       "      <th></th>\n",
       "      <th>Release Year</th>\n",
       "      <th>Title</th>\n",
       "      <th>Origin/Ethnicity</th>\n",
       "      <th>Director</th>\n",
       "      <th>Cast</th>\n",
       "      <th>Genre</th>\n",
       "      <th>Wiki Page</th>\n",
       "      <th>Plot</th>\n",
       "    </tr>\n",
       "  </thead>\n",
       "  <tbody>\n",
       "    <tr>\n",
       "      <th>7</th>\n",
       "      <td>1904</td>\n",
       "      <td>The Suburbanite</td>\n",
       "      <td>American</td>\n",
       "      <td>Wallace McCutcheon</td>\n",
       "      <td>NaN</td>\n",
       "      <td>comedy</td>\n",
       "      <td>https://en.wikipedia.org/wiki/The_Suburbanite</td>\n",
       "      <td>The film is about a family who move to the sub...</td>\n",
       "    </tr>\n",
       "    <tr>\n",
       "      <th>14</th>\n",
       "      <td>1907</td>\n",
       "      <td>How Brown Saw the Baseball Game</td>\n",
       "      <td>American</td>\n",
       "      <td>Unknown</td>\n",
       "      <td>Unknown</td>\n",
       "      <td>comedy</td>\n",
       "      <td>https://en.wikipedia.org/wiki/How_Brown_Saw_th...</td>\n",
       "      <td>Before heading out to a baseball game at a nea...</td>\n",
       "    </tr>\n",
       "    <tr>\n",
       "      <th>15</th>\n",
       "      <td>1907</td>\n",
       "      <td>Laughing Gas</td>\n",
       "      <td>American</td>\n",
       "      <td>Edwin Stanton Porter</td>\n",
       "      <td>Bertha Regustus, Edward Boulden</td>\n",
       "      <td>comedy</td>\n",
       "      <td>https://en.wikipedia.org/wiki/Laughing_Gas_(fi...</td>\n",
       "      <td>The plot is that of a black woman going to the...</td>\n",
       "    </tr>\n",
       "    <tr>\n",
       "      <th>16</th>\n",
       "      <td>1908</td>\n",
       "      <td>The Adventures of Dollie</td>\n",
       "      <td>American</td>\n",
       "      <td>D. W. Griffith</td>\n",
       "      <td>Arthur V. Johnson, Linda Arvidson</td>\n",
       "      <td>drama</td>\n",
       "      <td>https://en.wikipedia.org/wiki/The_Adventures_o...</td>\n",
       "      <td>On a beautiful summer day a father and mother ...</td>\n",
       "    </tr>\n",
       "    <tr>\n",
       "      <th>17</th>\n",
       "      <td>1908</td>\n",
       "      <td>The Black Viper</td>\n",
       "      <td>American</td>\n",
       "      <td>D. W. Griffith</td>\n",
       "      <td>D. W. Griffith</td>\n",
       "      <td>drama</td>\n",
       "      <td>https://en.wikipedia.org/wiki/The_Black_Viper</td>\n",
       "      <td>A thug accosts a girl as she leaves her workpl...</td>\n",
       "    </tr>\n",
       "    <tr>\n",
       "      <th>...</th>\n",
       "      <td>...</td>\n",
       "      <td>...</td>\n",
       "      <td>...</td>\n",
       "      <td>...</td>\n",
       "      <td>...</td>\n",
       "      <td>...</td>\n",
       "      <td>...</td>\n",
       "      <td>...</td>\n",
       "    </tr>\n",
       "    <tr>\n",
       "      <th>34876</th>\n",
       "      <td>2013</td>\n",
       "      <td>Selam</td>\n",
       "      <td>Turkish</td>\n",
       "      <td>Levent Demirkale</td>\n",
       "      <td>Bucin Abdullah, Selma Alispahic, Tina Cvitanov...</td>\n",
       "      <td>drama</td>\n",
       "      <td>https://en.wikipedia.org/wiki/Selam_(film)</td>\n",
       "      <td>The film opens with a Senegalese boy named Kha...</td>\n",
       "    </tr>\n",
       "    <tr>\n",
       "      <th>34882</th>\n",
       "      <td>2017</td>\n",
       "      <td>Çalgı Çengi İkimiz</td>\n",
       "      <td>Turkish</td>\n",
       "      <td>Selçuk Aydemir</td>\n",
       "      <td>Ahmet Kural, Murat Cemcir</td>\n",
       "      <td>comedy</td>\n",
       "      <td>https://en.wikipedia.org/wiki/%C3%87alg%C4%B1_...</td>\n",
       "      <td>Two musicians, Salih and Gürkan, described the...</td>\n",
       "    </tr>\n",
       "    <tr>\n",
       "      <th>34883</th>\n",
       "      <td>2017</td>\n",
       "      <td>Olanlar Oldu</td>\n",
       "      <td>Turkish</td>\n",
       "      <td>Hakan Algül</td>\n",
       "      <td>Ata Demirer, Tuvana Türkay, Ülkü Duru</td>\n",
       "      <td>comedy</td>\n",
       "      <td>https://en.wikipedia.org/wiki/Olanlar_Oldu</td>\n",
       "      <td>Zafer, a sailor living with his mother Döndü i...</td>\n",
       "    </tr>\n",
       "    <tr>\n",
       "      <th>34884</th>\n",
       "      <td>2017</td>\n",
       "      <td>Non-Transferable</td>\n",
       "      <td>Turkish</td>\n",
       "      <td>Brendan Bradley</td>\n",
       "      <td>YouTubers Shanna Malcolm, Shira Lazar, Sara Fl...</td>\n",
       "      <td>romance</td>\n",
       "      <td>https://en.wikipedia.org/wiki/Non-Transferable...</td>\n",
       "      <td>The film centres around a young woman named Am...</td>\n",
       "    </tr>\n",
       "    <tr>\n",
       "      <th>34885</th>\n",
       "      <td>2017</td>\n",
       "      <td>İstanbul Kırmızısı</td>\n",
       "      <td>Turkish</td>\n",
       "      <td>Ferzan Özpetek</td>\n",
       "      <td>Halit Ergenç, Tuba Büyüküstün, Mehmet Günsür, ...</td>\n",
       "      <td>romance</td>\n",
       "      <td>https://en.wikipedia.org/wiki/%C4%B0stanbul_K%...</td>\n",
       "      <td>The writer Orhan Şahin returns to İstanbul aft...</td>\n",
       "    </tr>\n",
       "  </tbody>\n",
       "</table>\n",
       "<p>17542 rows × 8 columns</p>\n",
       "</div>"
      ],
      "text/plain": [
       "       Release Year                            Title Origin/Ethnicity  \\\n",
       "7              1904                  The Suburbanite         American   \n",
       "14             1907  How Brown Saw the Baseball Game         American   \n",
       "15             1907                     Laughing Gas         American   \n",
       "16             1908         The Adventures of Dollie         American   \n",
       "17             1908                  The Black Viper         American   \n",
       "...             ...                              ...              ...   \n",
       "34876          2013                            Selam          Turkish   \n",
       "34882          2017               Çalgı Çengi İkimiz          Turkish   \n",
       "34883          2017                     Olanlar Oldu          Turkish   \n",
       "34884          2017                 Non-Transferable          Turkish   \n",
       "34885          2017               İstanbul Kırmızısı          Turkish   \n",
       "\n",
       "                   Director  \\\n",
       "7        Wallace McCutcheon   \n",
       "14                  Unknown   \n",
       "15     Edwin Stanton Porter   \n",
       "16           D. W. Griffith   \n",
       "17           D. W. Griffith   \n",
       "...                     ...   \n",
       "34876      Levent Demirkale   \n",
       "34882        Selçuk Aydemir   \n",
       "34883           Hakan Algül   \n",
       "34884       Brendan Bradley   \n",
       "34885        Ferzan Özpetek   \n",
       "\n",
       "                                                    Cast    Genre  \\\n",
       "7                                                    NaN   comedy   \n",
       "14                                               Unknown   comedy   \n",
       "15                       Bertha Regustus, Edward Boulden   comedy   \n",
       "16                     Arthur V. Johnson, Linda Arvidson    drama   \n",
       "17                                        D. W. Griffith    drama   \n",
       "...                                                  ...      ...   \n",
       "34876  Bucin Abdullah, Selma Alispahic, Tina Cvitanov...    drama   \n",
       "34882                          Ahmet Kural, Murat Cemcir   comedy   \n",
       "34883              Ata Demirer, Tuvana Türkay, Ülkü Duru   comedy   \n",
       "34884  YouTubers Shanna Malcolm, Shira Lazar, Sara Fl...  romance   \n",
       "34885  Halit Ergenç, Tuba Büyüküstün, Mehmet Günsür, ...  romance   \n",
       "\n",
       "                                               Wiki Page  \\\n",
       "7          https://en.wikipedia.org/wiki/The_Suburbanite   \n",
       "14     https://en.wikipedia.org/wiki/How_Brown_Saw_th...   \n",
       "15     https://en.wikipedia.org/wiki/Laughing_Gas_(fi...   \n",
       "16     https://en.wikipedia.org/wiki/The_Adventures_o...   \n",
       "17         https://en.wikipedia.org/wiki/The_Black_Viper   \n",
       "...                                                  ...   \n",
       "34876         https://en.wikipedia.org/wiki/Selam_(film)   \n",
       "34882  https://en.wikipedia.org/wiki/%C3%87alg%C4%B1_...   \n",
       "34883         https://en.wikipedia.org/wiki/Olanlar_Oldu   \n",
       "34884  https://en.wikipedia.org/wiki/Non-Transferable...   \n",
       "34885  https://en.wikipedia.org/wiki/%C4%B0stanbul_K%...   \n",
       "\n",
       "                                                    Plot  \n",
       "7      The film is about a family who move to the sub...  \n",
       "14     Before heading out to a baseball game at a nea...  \n",
       "15     The plot is that of a black woman going to the...  \n",
       "16     On a beautiful summer day a father and mother ...  \n",
       "17     A thug accosts a girl as she leaves her workpl...  \n",
       "...                                                  ...  \n",
       "34876  The film opens with a Senegalese boy named Kha...  \n",
       "34882  Two musicians, Salih and Gürkan, described the...  \n",
       "34883  Zafer, a sailor living with his mother Döndü i...  \n",
       "34884  The film centres around a young woman named Am...  \n",
       "34885  The writer Orhan Şahin returns to İstanbul aft...  \n",
       "\n",
       "[17542 rows x 8 columns]"
      ]
     },
     "execution_count": 56,
     "metadata": {},
     "output_type": "execute_result"
    }
   ],
   "source": [
    "# Our top 6 categories:\n",
    "selected_genres = ['action/adventure', 'drama', 'comedy', \n",
    "                  'horror', 'suspense/thriller/mystery', 'romance']\n",
    "\n",
    "\n",
    "# Check if the value in the 'Genre' column of the row is in the selected_genres list\n",
    "def filter_by_genre(row):\n",
    "    return row['Genre'] in selected_genres\n",
    "\n",
    "# Apply the function to filter rows based on the 'Genre' column\n",
    "filtered_df = df[df.apply(filter_by_genre, axis=1)]\n",
    "\n",
    "# View the new dataset\n",
    "filtered_df\n"
   ]
  },
  {
   "cell_type": "code",
   "execution_count": 58,
   "metadata": {},
   "outputs": [
    {
     "data": {
      "text/html": [
       "<div>\n",
       "<style scoped>\n",
       "    .dataframe tbody tr th:only-of-type {\n",
       "        vertical-align: middle;\n",
       "    }\n",
       "\n",
       "    .dataframe tbody tr th {\n",
       "        vertical-align: top;\n",
       "    }\n",
       "\n",
       "    .dataframe thead th {\n",
       "        text-align: right;\n",
       "    }\n",
       "</style>\n",
       "<table border=\"1\" class=\"dataframe\">\n",
       "  <thead>\n",
       "    <tr style=\"text-align: right;\">\n",
       "      <th></th>\n",
       "      <th>Release Year</th>\n",
       "      <th>Title</th>\n",
       "      <th>Origin/Ethnicity</th>\n",
       "      <th>Director</th>\n",
       "      <th>Cast</th>\n",
       "      <th>Genre</th>\n",
       "      <th>Wiki Page</th>\n",
       "      <th>Plot</th>\n",
       "    </tr>\n",
       "  </thead>\n",
       "  <tbody>\n",
       "    <tr>\n",
       "      <th>7</th>\n",
       "      <td>1904</td>\n",
       "      <td>The Suburbanite</td>\n",
       "      <td>American</td>\n",
       "      <td>Wallace McCutcheon</td>\n",
       "      <td>NaN</td>\n",
       "      <td>comedy</td>\n",
       "      <td>https://en.wikipedia.org/wiki/The_Suburbanite</td>\n",
       "      <td>The film is about a family who move to the sub...</td>\n",
       "    </tr>\n",
       "    <tr>\n",
       "      <th>14</th>\n",
       "      <td>1907</td>\n",
       "      <td>How Brown Saw the Baseball Game</td>\n",
       "      <td>American</td>\n",
       "      <td>Unknown</td>\n",
       "      <td>Unknown</td>\n",
       "      <td>comedy</td>\n",
       "      <td>https://en.wikipedia.org/wiki/How_Brown_Saw_th...</td>\n",
       "      <td>Before heading out to a baseball game at a nea...</td>\n",
       "    </tr>\n",
       "    <tr>\n",
       "      <th>15</th>\n",
       "      <td>1907</td>\n",
       "      <td>Laughing Gas</td>\n",
       "      <td>American</td>\n",
       "      <td>Edwin Stanton Porter</td>\n",
       "      <td>Bertha Regustus, Edward Boulden</td>\n",
       "      <td>comedy</td>\n",
       "      <td>https://en.wikipedia.org/wiki/Laughing_Gas_(fi...</td>\n",
       "      <td>The plot is that of a black woman going to the...</td>\n",
       "    </tr>\n",
       "    <tr>\n",
       "      <th>16</th>\n",
       "      <td>1908</td>\n",
       "      <td>The Adventures of Dollie</td>\n",
       "      <td>American</td>\n",
       "      <td>D. W. Griffith</td>\n",
       "      <td>Arthur V. Johnson, Linda Arvidson</td>\n",
       "      <td>drama</td>\n",
       "      <td>https://en.wikipedia.org/wiki/The_Adventures_o...</td>\n",
       "      <td>On a beautiful summer day a father and mother ...</td>\n",
       "    </tr>\n",
       "    <tr>\n",
       "      <th>17</th>\n",
       "      <td>1908</td>\n",
       "      <td>The Black Viper</td>\n",
       "      <td>American</td>\n",
       "      <td>D. W. Griffith</td>\n",
       "      <td>D. W. Griffith</td>\n",
       "      <td>drama</td>\n",
       "      <td>https://en.wikipedia.org/wiki/The_Black_Viper</td>\n",
       "      <td>A thug accosts a girl as she leaves her workpl...</td>\n",
       "    </tr>\n",
       "    <tr>\n",
       "      <th>18</th>\n",
       "      <td>1908</td>\n",
       "      <td>A Calamitous Elopement</td>\n",
       "      <td>American</td>\n",
       "      <td>D.W. Griffith</td>\n",
       "      <td>Harry Solter, Linda Arvidson</td>\n",
       "      <td>comedy</td>\n",
       "      <td>https://en.wikipedia.org/wiki/A_Calamitous_Elo...</td>\n",
       "      <td>A young couple decides to elope after being ca...</td>\n",
       "    </tr>\n",
       "    <tr>\n",
       "      <th>19</th>\n",
       "      <td>1908</td>\n",
       "      <td>The Call of the Wild</td>\n",
       "      <td>American</td>\n",
       "      <td>D. W. Griffith</td>\n",
       "      <td>Charles Inslee</td>\n",
       "      <td>action/adventure</td>\n",
       "      <td>https://en.wikipedia.org/wiki/The_Call_of_the_...</td>\n",
       "      <td>A white girl (Florence Lawrence) rejects a pro...</td>\n",
       "    </tr>\n",
       "    <tr>\n",
       "      <th>20</th>\n",
       "      <td>1908</td>\n",
       "      <td>A Christmas Carol</td>\n",
       "      <td>American</td>\n",
       "      <td>Unknown</td>\n",
       "      <td>Tom Ricketts</td>\n",
       "      <td>drama</td>\n",
       "      <td>https://en.wikipedia.org/wiki/A_Christmas_Caro...</td>\n",
       "      <td>No prints of the first American film adaptatio...</td>\n",
       "    </tr>\n",
       "    <tr>\n",
       "      <th>22</th>\n",
       "      <td>1909</td>\n",
       "      <td>At the Altar</td>\n",
       "      <td>American</td>\n",
       "      <td>D. W. Griffith</td>\n",
       "      <td>Marion Leonard</td>\n",
       "      <td>drama</td>\n",
       "      <td>https://en.wikipedia.org/wiki/At_the_Altar</td>\n",
       "      <td>A rejected admirer sets up a trap to kill his ...</td>\n",
       "    </tr>\n",
       "    <tr>\n",
       "      <th>23</th>\n",
       "      <td>1909</td>\n",
       "      <td>A Drunkard's Reformation</td>\n",
       "      <td>American</td>\n",
       "      <td>D. W. Griffith</td>\n",
       "      <td>Arthur V. Johnson</td>\n",
       "      <td>drama</td>\n",
       "      <td>https://en.wikipedia.org/wiki/A_Drunkard%27s_R...</td>\n",
       "      <td>John Wharton, the husband of a true and trusti...</td>\n",
       "    </tr>\n",
       "    <tr>\n",
       "      <th>24</th>\n",
       "      <td>1909</td>\n",
       "      <td>The Golden Louis</td>\n",
       "      <td>American</td>\n",
       "      <td>D. W. Griffith</td>\n",
       "      <td>NaN</td>\n",
       "      <td>drama</td>\n",
       "      <td>https://en.wikipedia.org/wiki/The_Golden_Louis</td>\n",
       "      <td>An old woman sends a girl begging in the stree...</td>\n",
       "    </tr>\n",
       "    <tr>\n",
       "      <th>26</th>\n",
       "      <td>1910</td>\n",
       "      <td>An Arcadian Maid</td>\n",
       "      <td>American</td>\n",
       "      <td>D.W. Griffith</td>\n",
       "      <td>Mary Pickford, Mack Sennett</td>\n",
       "      <td>drama</td>\n",
       "      <td>https://en.wikipedia.org/wiki/An_Arcadian_Maid</td>\n",
       "      <td>Mary Pickford plays Priscilla an unemployed ma...</td>\n",
       "    </tr>\n",
       "    <tr>\n",
       "      <th>29</th>\n",
       "      <td>1910</td>\n",
       "      <td>Hemlock Hoax, the Detective</td>\n",
       "      <td>American</td>\n",
       "      <td>Unknown</td>\n",
       "      <td>NaN</td>\n",
       "      <td>comedy</td>\n",
       "      <td>https://en.wikipedia.org/wiki/Hemlock_Hoax,_th...</td>\n",
       "      <td>Hemlock Hoax is a detective who has little res...</td>\n",
       "    </tr>\n",
       "    <tr>\n",
       "      <th>30</th>\n",
       "      <td>1910</td>\n",
       "      <td>The House with Closed Shutters</td>\n",
       "      <td>American</td>\n",
       "      <td>D.W. Griffith</td>\n",
       "      <td>Henry B. Walthall</td>\n",
       "      <td>drama</td>\n",
       "      <td>https://en.wikipedia.org/wiki/The_House_with_C...</td>\n",
       "      <td>During the American Civil War a young soldier ...</td>\n",
       "    </tr>\n",
       "    <tr>\n",
       "      <th>31</th>\n",
       "      <td>1910</td>\n",
       "      <td>A Lad from Old Ireland</td>\n",
       "      <td>American</td>\n",
       "      <td>Sidney Olcott</td>\n",
       "      <td>Sidney Olcott, Gene Gauntier, Thomas O'Connor</td>\n",
       "      <td>drama</td>\n",
       "      <td>https://en.wikipedia.org/wiki/A_Lad_from_Old_I...</td>\n",
       "      <td>An Irish boy (Olcott) emigrates to America to ...</td>\n",
       "    </tr>\n",
       "  </tbody>\n",
       "</table>\n",
       "</div>"
      ],
      "text/plain": [
       "    Release Year                            Title Origin/Ethnicity  \\\n",
       "7           1904                  The Suburbanite         American   \n",
       "14          1907  How Brown Saw the Baseball Game         American   \n",
       "15          1907                     Laughing Gas         American   \n",
       "16          1908         The Adventures of Dollie         American   \n",
       "17          1908                  The Black Viper         American   \n",
       "18          1908           A Calamitous Elopement         American   \n",
       "19          1908             The Call of the Wild         American   \n",
       "20          1908                A Christmas Carol         American   \n",
       "22          1909                     At the Altar         American   \n",
       "23          1909         A Drunkard's Reformation         American   \n",
       "24          1909                 The Golden Louis         American   \n",
       "26          1910                 An Arcadian Maid         American   \n",
       "29          1910      Hemlock Hoax, the Detective         American   \n",
       "30          1910   The House with Closed Shutters         American   \n",
       "31          1910           A Lad from Old Ireland         American   \n",
       "\n",
       "                Director                                           Cast  \\\n",
       "7     Wallace McCutcheon                                            NaN   \n",
       "14               Unknown                                        Unknown   \n",
       "15  Edwin Stanton Porter                Bertha Regustus, Edward Boulden   \n",
       "16        D. W. Griffith              Arthur V. Johnson, Linda Arvidson   \n",
       "17        D. W. Griffith                                 D. W. Griffith   \n",
       "18         D.W. Griffith                   Harry Solter, Linda Arvidson   \n",
       "19        D. W. Griffith                                 Charles Inslee   \n",
       "20               Unknown                                   Tom Ricketts   \n",
       "22        D. W. Griffith                                 Marion Leonard   \n",
       "23        D. W. Griffith                              Arthur V. Johnson   \n",
       "24        D. W. Griffith                                            NaN   \n",
       "26         D.W. Griffith                    Mary Pickford, Mack Sennett   \n",
       "29               Unknown                                            NaN   \n",
       "30         D.W. Griffith                              Henry B. Walthall   \n",
       "31         Sidney Olcott  Sidney Olcott, Gene Gauntier, Thomas O'Connor   \n",
       "\n",
       "               Genre                                          Wiki Page  \\\n",
       "7             comedy      https://en.wikipedia.org/wiki/The_Suburbanite   \n",
       "14            comedy  https://en.wikipedia.org/wiki/How_Brown_Saw_th...   \n",
       "15            comedy  https://en.wikipedia.org/wiki/Laughing_Gas_(fi...   \n",
       "16             drama  https://en.wikipedia.org/wiki/The_Adventures_o...   \n",
       "17             drama      https://en.wikipedia.org/wiki/The_Black_Viper   \n",
       "18            comedy  https://en.wikipedia.org/wiki/A_Calamitous_Elo...   \n",
       "19  action/adventure  https://en.wikipedia.org/wiki/The_Call_of_the_...   \n",
       "20             drama  https://en.wikipedia.org/wiki/A_Christmas_Caro...   \n",
       "22             drama         https://en.wikipedia.org/wiki/At_the_Altar   \n",
       "23             drama  https://en.wikipedia.org/wiki/A_Drunkard%27s_R...   \n",
       "24             drama     https://en.wikipedia.org/wiki/The_Golden_Louis   \n",
       "26             drama     https://en.wikipedia.org/wiki/An_Arcadian_Maid   \n",
       "29            comedy  https://en.wikipedia.org/wiki/Hemlock_Hoax,_th...   \n",
       "30             drama  https://en.wikipedia.org/wiki/The_House_with_C...   \n",
       "31             drama  https://en.wikipedia.org/wiki/A_Lad_from_Old_I...   \n",
       "\n",
       "                                                 Plot  \n",
       "7   The film is about a family who move to the sub...  \n",
       "14  Before heading out to a baseball game at a nea...  \n",
       "15  The plot is that of a black woman going to the...  \n",
       "16  On a beautiful summer day a father and mother ...  \n",
       "17  A thug accosts a girl as she leaves her workpl...  \n",
       "18  A young couple decides to elope after being ca...  \n",
       "19  A white girl (Florence Lawrence) rejects a pro...  \n",
       "20  No prints of the first American film adaptatio...  \n",
       "22  A rejected admirer sets up a trap to kill his ...  \n",
       "23  John Wharton, the husband of a true and trusti...  \n",
       "24  An old woman sends a girl begging in the stree...  \n",
       "26  Mary Pickford plays Priscilla an unemployed ma...  \n",
       "29  Hemlock Hoax is a detective who has little res...  \n",
       "30  During the American Civil War a young soldier ...  \n",
       "31  An Irish boy (Olcott) emigrates to America to ...  "
      ]
     },
     "execution_count": 58,
     "metadata": {},
     "output_type": "execute_result"
    }
   ],
   "source": [
    "filtered_df.head(15)"
   ]
  },
  {
   "cell_type": "code",
   "execution_count": 59,
   "metadata": {},
   "outputs": [
    {
     "data": {
      "text/plain": [
       "6"
      ]
     },
     "execution_count": 59,
     "metadata": {},
     "output_type": "execute_result"
    }
   ],
   "source": [
    "# Notice the new dataset indeed includes only six categories, the ones we picked. \n",
    "len(filtered_df['Genre'].unique())"
   ]
  },
  {
   "cell_type": "code",
   "execution_count": 62,
   "metadata": {},
   "outputs": [
    {
     "data": {
      "text/plain": [
       "<Axes: xlabel='Genre'>"
      ]
     },
     "execution_count": 62,
     "metadata": {},
     "output_type": "execute_result"
    },
    {
     "data": {
      "image/png": "[encoded data removed]",
      "text/plain": [
       "<Figure size 640x480 with 1 Axes>"
      ]
     },
     "metadata": {},
     "output_type": "display_data"
    }
   ],
   "source": [
    "# View the distribution of these six categories.\n",
    "filtered_df['Genre'].value_counts().plot(kind = 'bar')"
   ]
  },
  {
   "cell_type": "code",
   "execution_count": 60,
   "metadata": {},
   "outputs": [],
   "source": [
    "# Export the new dataset to a csv\n",
    "filtered_df.to_csv('final_movies.csv', index=False)"
   ]
  }
 ],
 "metadata": {
  "kernelspec": {
   "display_name": "base",
   "language": "python",
   "name": "python3"
  },
  "language_info": {
   "codemirror_mode": {
    "name": "ipython",
    "version": 3
   },
   "file_extension": ".py",
   "mimetype": "text/x-python",
   "name": "python",
   "nbconvert_exporter": "python",
   "pygments_lexer": "ipython3",
   "version": "3.10.8"
  },
  "orig_nbformat": 4
 },
 "nbformat": 4,
 "nbformat_minor": 2
}
